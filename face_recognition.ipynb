{
  "nbformat": 4,
  "nbformat_minor": 0,
  "metadata": {
    "colab": {
      "provenance": [],
      "collapsed_sections": []
    },
    "kernelspec": {
      "name": "python3",
      "display_name": "Python 3"
    },
    "language_info": {
      "name": "python"
    },
    "accelerator": "GPU"
  },
  "cells": [
    {
      "cell_type": "code",
      "source": [
        "import face_recognition\n",
        "import pandas as pd\n",
        "import os"
      ],
      "metadata": {
        "id": "c7FOKKyUmVbb"
      },
      "execution_count": null,
      "outputs": []
    },
    {
      "cell_type": "code",
      "source": [
        "import numpy as np"
      ],
      "metadata": {
        "id": "p4L-R2K27Ho7"
      },
      "execution_count": null,
      "outputs": []
    },
    {
      "cell_type": "code",
      "source": [
        "test_dir  = './test_dataset'\n",
        "test_data = os.listdir(test_dir)\n",
        "# test_data.sort()\n",
        "# train_data[:10]\n",
        "\n",
        "train_dir = './train_dataset'\n",
        "train_data = os.listdir(train_dir)\n",
        "train_data.sort()"
      ],
      "metadata": {
        "id": "prGu4olMmv9n"
      },
      "execution_count": null,
      "outputs": []
    },
    {
      "cell_type": "code",
      "source": [
        "encodings_list = pd.DataFrame()\n",
        "encodings_list['Person'] = []\n",
        "encodings_list['encoding'] = []"
      ],
      "metadata": {
        "id": "GfQhLF_bqZh8"
      },
      "execution_count": null,
      "outputs": []
    },
    {
      "cell_type": "markdown",
      "source": [
        "Trained for classified faces\n"
      ],
      "metadata": {
        "id": "8lcY2VozwKv5"
      }
    },
    {
      "cell_type": "code",
      "source": [
        "for i in train_data[1:]:\n",
        "  image = face_recognition.load_image_file(os.path.join(train_dir ,i))\n",
        "  face_encoding_list = face_recognition.face_encodings(image, model='cnn')\n",
        "  encodings_list.loc[len(encodings_list)] = [i.split('.')[0], face_encoding_list[0]]"
      ],
      "metadata": {
        "id": "NmMrzrj_sWn4"
      },
      "execution_count": null,
      "outputs": []
    },
    {
      "cell_type": "code",
      "source": [
        "result = pd.DataFrame()\n",
        "result['S.No'] = []\n",
        "for i in encodings_list['Person']:\n",
        "  result[i] = []\n",
        "  result[i] = result[i].astype(int)"
      ],
      "metadata": {
        "id": "0ExbQKUUxywG"
      },
      "execution_count": null,
      "outputs": []
    },
    {
      "cell_type": "code",
      "source": [
        "#result"
      ],
      "metadata": {
        "id": "nWjyrV5MyT0-"
      },
      "execution_count": null,
      "outputs": []
    },
    {
      "cell_type": "code",
      "source": [
        "for i in test_data:\n",
        "  image = face_recognition.load_image_file(os.path.join(test_dir ,i))\n",
        "  face_encoding_list = face_recognition.face_encodings(image, model='cnn')\n",
        "\n",
        "  if len(face_encoding_list) > 0:\n",
        "      dict__ = []\n",
        "\n",
        "      for j in face_encoding_list:\n",
        "        matches = face_recognition.compare_faces(list(encodings_list['encoding']), j)\n",
        "        dict__.append([int(item) for item in matches])\n",
        "\n",
        "      dict__ = np.asarray(dict__)\n",
        "\n",
        "      for k in dict__[1:]:\n",
        "        dict__[0] += k\n",
        "\n",
        "      final__dict = [i]\n",
        "\n",
        "      for ele in dict__[0]:\n",
        "        final__dict.append(int(ele))\n",
        "\n",
        "      result.loc[len(result)] = final__dict\n",
        "  else:\n",
        "    result.loc[len(result)] = [i , 0, 0, 0, 0, 0, 0]\n",
        "\n",
        "  "
      ],
      "metadata": {
        "id": "ImMijsxtvzy8"
      },
      "execution_count": null,
      "outputs": []
    },
    {
      "cell_type": "code",
      "source": [
        "result"
      ],
      "metadata": {
        "colab": {
          "base_uri": "https://localhost:8080/",
          "height": 424
        },
        "id": "wHFyWF9tCVZG",
        "outputId": "42f79520-c9cb-4694-b23a-b8def3e7288e"
      },
      "execution_count": null,
      "outputs": [
        {
          "output_type": "execute_result",
          "data": {
            "text/plain": [
              "                                        S.No  label_0  label_1  label_2  \\\n",
              "0   43f601a6-7cd7-4ada-a882-bc9ede01dce9.JPG        0        0        1   \n",
              "1   16bad20c-51c2-4d08-bec1-25db95d7d231.JPG        0        0        0   \n",
              "2   2dac39a4-4225-4375-be81-3fef81bade15.JPG        1        1        0   \n",
              "3   5bd15a53-3987-4ec8-887c-1b3e304e6707.JPG        0        1        0   \n",
              "4   375c928c-0758-43b5-89f9-587793505bdb.JPG        0        0        0   \n",
              "..                                       ...      ...      ...      ...   \n",
              "92  4fcbc6fd-aa24-4de3-9c9d-4c0a1697d7cb.JPG        0        1        0   \n",
              "93  4396f72b-f273-4749-a9b1-e759662b849a.JPG        0        0        0   \n",
              "94  44e27f8c-c6bf-45dc-8c87-fcc55f6278b9.JPG        0        0        0   \n",
              "95  4f58ee45-ae0d-4378-9ca4-e9b8655c9a37.JPG        0        0        0   \n",
              "96  2ac464a6-5bc6-45de-b940-fefec4a35448.JPG        0        0        0   \n",
              "\n",
              "    label_3  label_4  label_5  \n",
              "0         0        0        0  \n",
              "1         1        0        0  \n",
              "2         0        0        0  \n",
              "3         0        0        0  \n",
              "4         0        0        0  \n",
              "..      ...      ...      ...  \n",
              "92        0        0        0  \n",
              "93        0        0        1  \n",
              "94        0        0        1  \n",
              "95        0        0        1  \n",
              "96        0        0        0  \n",
              "\n",
              "[97 rows x 7 columns]"
            ],
            "text/html": [
              "\n",
              "  <div id=\"df-8fb131c6-f6fb-408c-b5e6-b9519bfb9505\">\n",
              "    <div class=\"colab-df-container\">\n",
              "      <div>\n",
              "<style scoped>\n",
              "    .dataframe tbody tr th:only-of-type {\n",
              "        vertical-align: middle;\n",
              "    }\n",
              "\n",
              "    .dataframe tbody tr th {\n",
              "        vertical-align: top;\n",
              "    }\n",
              "\n",
              "    .dataframe thead th {\n",
              "        text-align: right;\n",
              "    }\n",
              "</style>\n",
              "<table border=\"1\" class=\"dataframe\">\n",
              "  <thead>\n",
              "    <tr style=\"text-align: right;\">\n",
              "      <th></th>\n",
              "      <th>S.No</th>\n",
              "      <th>label_0</th>\n",
              "      <th>label_1</th>\n",
              "      <th>label_2</th>\n",
              "      <th>label_3</th>\n",
              "      <th>label_4</th>\n",
              "      <th>label_5</th>\n",
              "    </tr>\n",
              "  </thead>\n",
              "  <tbody>\n",
              "    <tr>\n",
              "      <th>0</th>\n",
              "      <td>43f601a6-7cd7-4ada-a882-bc9ede01dce9.JPG</td>\n",
              "      <td>0</td>\n",
              "      <td>0</td>\n",
              "      <td>1</td>\n",
              "      <td>0</td>\n",
              "      <td>0</td>\n",
              "      <td>0</td>\n",
              "    </tr>\n",
              "    <tr>\n",
              "      <th>1</th>\n",
              "      <td>16bad20c-51c2-4d08-bec1-25db95d7d231.JPG</td>\n",
              "      <td>0</td>\n",
              "      <td>0</td>\n",
              "      <td>0</td>\n",
              "      <td>1</td>\n",
              "      <td>0</td>\n",
              "      <td>0</td>\n",
              "    </tr>\n",
              "    <tr>\n",
              "      <th>2</th>\n",
              "      <td>2dac39a4-4225-4375-be81-3fef81bade15.JPG</td>\n",
              "      <td>1</td>\n",
              "      <td>1</td>\n",
              "      <td>0</td>\n",
              "      <td>0</td>\n",
              "      <td>0</td>\n",
              "      <td>0</td>\n",
              "    </tr>\n",
              "    <tr>\n",
              "      <th>3</th>\n",
              "      <td>5bd15a53-3987-4ec8-887c-1b3e304e6707.JPG</td>\n",
              "      <td>0</td>\n",
              "      <td>1</td>\n",
              "      <td>0</td>\n",
              "      <td>0</td>\n",
              "      <td>0</td>\n",
              "      <td>0</td>\n",
              "    </tr>\n",
              "    <tr>\n",
              "      <th>4</th>\n",
              "      <td>375c928c-0758-43b5-89f9-587793505bdb.JPG</td>\n",
              "      <td>0</td>\n",
              "      <td>0</td>\n",
              "      <td>0</td>\n",
              "      <td>0</td>\n",
              "      <td>0</td>\n",
              "      <td>0</td>\n",
              "    </tr>\n",
              "    <tr>\n",
              "      <th>...</th>\n",
              "      <td>...</td>\n",
              "      <td>...</td>\n",
              "      <td>...</td>\n",
              "      <td>...</td>\n",
              "      <td>...</td>\n",
              "      <td>...</td>\n",
              "      <td>...</td>\n",
              "    </tr>\n",
              "    <tr>\n",
              "      <th>92</th>\n",
              "      <td>4fcbc6fd-aa24-4de3-9c9d-4c0a1697d7cb.JPG</td>\n",
              "      <td>0</td>\n",
              "      <td>1</td>\n",
              "      <td>0</td>\n",
              "      <td>0</td>\n",
              "      <td>0</td>\n",
              "      <td>0</td>\n",
              "    </tr>\n",
              "    <tr>\n",
              "      <th>93</th>\n",
              "      <td>4396f72b-f273-4749-a9b1-e759662b849a.JPG</td>\n",
              "      <td>0</td>\n",
              "      <td>0</td>\n",
              "      <td>0</td>\n",
              "      <td>0</td>\n",
              "      <td>0</td>\n",
              "      <td>1</td>\n",
              "    </tr>\n",
              "    <tr>\n",
              "      <th>94</th>\n",
              "      <td>44e27f8c-c6bf-45dc-8c87-fcc55f6278b9.JPG</td>\n",
              "      <td>0</td>\n",
              "      <td>0</td>\n",
              "      <td>0</td>\n",
              "      <td>0</td>\n",
              "      <td>0</td>\n",
              "      <td>1</td>\n",
              "    </tr>\n",
              "    <tr>\n",
              "      <th>95</th>\n",
              "      <td>4f58ee45-ae0d-4378-9ca4-e9b8655c9a37.JPG</td>\n",
              "      <td>0</td>\n",
              "      <td>0</td>\n",
              "      <td>0</td>\n",
              "      <td>0</td>\n",
              "      <td>0</td>\n",
              "      <td>1</td>\n",
              "    </tr>\n",
              "    <tr>\n",
              "      <th>96</th>\n",
              "      <td>2ac464a6-5bc6-45de-b940-fefec4a35448.JPG</td>\n",
              "      <td>0</td>\n",
              "      <td>0</td>\n",
              "      <td>0</td>\n",
              "      <td>0</td>\n",
              "      <td>0</td>\n",
              "      <td>0</td>\n",
              "    </tr>\n",
              "  </tbody>\n",
              "</table>\n",
              "<p>97 rows × 7 columns</p>\n",
              "</div>\n",
              "      <button class=\"colab-df-convert\" onclick=\"convertToInteractive('df-8fb131c6-f6fb-408c-b5e6-b9519bfb9505')\"\n",
              "              title=\"Convert this dataframe to an interactive table.\"\n",
              "              style=\"display:none;\">\n",
              "        \n",
              "  <svg xmlns=\"http://www.w3.org/2000/svg\" height=\"24px\"viewBox=\"0 0 24 24\"\n",
              "       width=\"24px\">\n",
              "    <path d=\"M0 0h24v24H0V0z\" fill=\"none\"/>\n",
              "    <path d=\"M18.56 5.44l.94 2.06.94-2.06 2.06-.94-2.06-.94-.94-2.06-.94 2.06-2.06.94zm-11 1L8.5 8.5l.94-2.06 2.06-.94-2.06-.94L8.5 2.5l-.94 2.06-2.06.94zm10 10l.94 2.06.94-2.06 2.06-.94-2.06-.94-.94-2.06-.94 2.06-2.06.94z\"/><path d=\"M17.41 7.96l-1.37-1.37c-.4-.4-.92-.59-1.43-.59-.52 0-1.04.2-1.43.59L10.3 9.45l-7.72 7.72c-.78.78-.78 2.05 0 2.83L4 21.41c.39.39.9.59 1.41.59.51 0 1.02-.2 1.41-.59l7.78-7.78 2.81-2.81c.8-.78.8-2.07 0-2.86zM5.41 20L4 18.59l7.72-7.72 1.47 1.35L5.41 20z\"/>\n",
              "  </svg>\n",
              "      </button>\n",
              "      \n",
              "  <style>\n",
              "    .colab-df-container {\n",
              "      display:flex;\n",
              "      flex-wrap:wrap;\n",
              "      gap: 12px;\n",
              "    }\n",
              "\n",
              "    .colab-df-convert {\n",
              "      background-color: #E8F0FE;\n",
              "      border: none;\n",
              "      border-radius: 50%;\n",
              "      cursor: pointer;\n",
              "      display: none;\n",
              "      fill: #1967D2;\n",
              "      height: 32px;\n",
              "      padding: 0 0 0 0;\n",
              "      width: 32px;\n",
              "    }\n",
              "\n",
              "    .colab-df-convert:hover {\n",
              "      background-color: #E2EBFA;\n",
              "      box-shadow: 0px 1px 2px rgba(60, 64, 67, 0.3), 0px 1px 3px 1px rgba(60, 64, 67, 0.15);\n",
              "      fill: #174EA6;\n",
              "    }\n",
              "\n",
              "    [theme=dark] .colab-df-convert {\n",
              "      background-color: #3B4455;\n",
              "      fill: #D2E3FC;\n",
              "    }\n",
              "\n",
              "    [theme=dark] .colab-df-convert:hover {\n",
              "      background-color: #434B5C;\n",
              "      box-shadow: 0px 1px 3px 1px rgba(0, 0, 0, 0.15);\n",
              "      filter: drop-shadow(0px 1px 2px rgba(0, 0, 0, 0.3));\n",
              "      fill: #FFFFFF;\n",
              "    }\n",
              "  </style>\n",
              "\n",
              "      <script>\n",
              "        const buttonEl =\n",
              "          document.querySelector('#df-8fb131c6-f6fb-408c-b5e6-b9519bfb9505 button.colab-df-convert');\n",
              "        buttonEl.style.display =\n",
              "          google.colab.kernel.accessAllowed ? 'block' : 'none';\n",
              "\n",
              "        async function convertToInteractive(key) {\n",
              "          const element = document.querySelector('#df-8fb131c6-f6fb-408c-b5e6-b9519bfb9505');\n",
              "          const dataTable =\n",
              "            await google.colab.kernel.invokeFunction('convertToInteractive',\n",
              "                                                     [key], {});\n",
              "          if (!dataTable) return;\n",
              "\n",
              "          const docLinkHtml = 'Like what you see? Visit the ' +\n",
              "            '<a target=\"_blank\" href=https://colab.research.google.com/notebooks/data_table.ipynb>data table notebook</a>'\n",
              "            + ' to learn more about interactive tables.';\n",
              "          element.innerHTML = '';\n",
              "          dataTable['output_type'] = 'display_data';\n",
              "          await google.colab.output.renderOutput(dataTable, element);\n",
              "          const docLink = document.createElement('div');\n",
              "          docLink.innerHTML = docLinkHtml;\n",
              "          element.appendChild(docLink);\n",
              "        }\n",
              "      </script>\n",
              "    </div>\n",
              "  </div>\n",
              "  "
            ]
          },
          "metadata": {},
          "execution_count": 216
        }
      ]
    },
    {
      "cell_type": "code",
      "source": [
        "result.to_csv('result.csv')"
      ],
      "metadata": {
        "id": "luQ2NfDIDUrX"
      },
      "execution_count": null,
      "outputs": []
    }
  ]
}